{
 "cells": [
  {
   "cell_type": "code",
   "execution_count": 1,
   "metadata": {},
   "outputs": [
    {
     "name": "stderr",
     "output_type": "stream",
     "text": [
      "/usr/local/lib/python3.5/dist-packages/h5py/__init__.py:36: FutureWarning: Conversion of the second argument of issubdtype from `float` to `np.floating` is deprecated. In future, it will be treated as `np.float64 == np.dtype(float).type`.\n",
      "  from ._conv import register_converters as _register_converters\n"
     ]
    }
   ],
   "source": [
    "import tensorflow as tf\n",
    "import gym\n",
    "import os\n",
    "import numpy as np\n",
    "import random\n",
    "import sys\n",
    "from collections import namedtuple"
   ]
  },
  {
   "cell_type": "code",
   "execution_count": 2,
   "metadata": {},
   "outputs": [],
   "source": [
    "env = gym.envs.make(\"Berzerk-v0\")"
   ]
  },
  {
   "cell_type": "code",
   "execution_count": 3,
   "metadata": {},
   "outputs": [],
   "source": [
    "def weight_variable(shape):\n",
    "    initial = tf.truncated_normal(shape, stddev = 0.001)\n",
    "    return tf.Variable(initial)\n",
    "\n",
    "def bias_variable(shape):\n",
    "    initial = tf.constant(0., shape = shape)\n",
    "    return initial"
   ]
  },
  {
   "cell_type": "code",
   "execution_count": 4,
   "metadata": {},
   "outputs": [],
   "source": [
    "class state_processor():\n",
    "    \"\"\"\n",
    "    Crop the image to proper size and stack two images into a future model input.\n",
    "    \"\"\"\n",
    "    def __init__(self):\n",
    "        with tf.variable_scope(\"state_processor\"):\n",
    "            self.input_state = tf.placeholder(shape = [210, 160, 3], dtype = tf.uint8)\n",
    "            self.output = tf.image.rgb_to_grayscale(self.input_state)\n",
    "            self.output = tf.image.crop_to_bounding_box(self.output, 34, 0, 160, 160)\n",
    "            self.output = tf.image.resize_images(\n",
    "                self.output, [84, 84], method = tf.image.ResizeMethod.NEAREST_NEIGHBOR)\n",
    "            self.output = tf.squeeze(self.output)\n",
    "            \n",
    "    def process(self, sess, state):\n",
    "        \"\"\"\n",
    "        Args:\n",
    "            sess: tensorflow session\n",
    "            state: input image.\n",
    "        Returns:\n",
    "            A process [84, 84] greyscale image.\n",
    "        \"\"\"\n",
    "        return sess.run(self.output, {self.input_state: state})"
   ]
  },
  {
   "cell_type": "code",
   "execution_count": 5,
   "metadata": {},
   "outputs": [],
   "source": [
    "class state_predictor():\n",
    "    \"\"\"\n",
    "        Build a network to predict next state.\n",
    "    \"\"\"\n",
    "    def __init__(self, scope = \"state_predictor\", summary_dir = None):\n",
    "        with tf.variable_scope(scope):\n",
    "            self.model = self._build_model()\n",
    "            self.summary_writer = None\n",
    "            if summary_dir:\n",
    "                summary_dir = os.path.join(summary_dir, \"summarize_{}\".format(scope))\n",
    "                if not os.path.exists(summary_dir):\n",
    "                    os.makedirs(summary_dir)\n",
    "                self.summary_writer = tf.summary.FileWriter(summary_dir)\n",
    "            \n",
    "        \n",
    "    def _build_model(self):\n",
    "        \"\"\"\n",
    "            Build tensorflow graph.\n",
    "        \"\"\"\n",
    "        self.x_pl = tf.placeholder(shape = [None, 84, 84, 4], dtype = tf.uint8, name = \"X\")\n",
    "        self.y_pl = tf.placeholder(shape = [None, 7056], dtype = tf.float32, name = \"Y\")\n",
    "        self.action_pl = tf.placeholder(shape = [None, 4], dtype = tf.float32, name = \"action\")\n",
    "        \n",
    "        X = tf.to_float(self.x_pl) / 255.0\n",
    "        Y = self.y_pl / 255.0\n",
    "        batch_size = tf.shape(self.x_pl)[0]\n",
    "        \n",
    "        #Three convolution layers:\n",
    "        conv1 = tf.contrib.layers.conv2d(\n",
    "            X, num_outputs = 128, kernel_size = 3, stride = 2, activation_fn = tf.nn.relu, padding = \"SAME\")\n",
    "        conv2 = tf.contrib.layers.conv2d(\n",
    "            conv1, num_outputs = 128, kernel_size = 3, stride = 2, activation_fn = tf.nn.relu, padding = \"SAME\")\n",
    "        conv3 = tf.contrib.layers.conv2d(\n",
    "            conv2, num_outputs = 128, kernel_size = 3, stride = 2, activation_fn = tf.nn.relu, padding = \"SAME\")\n",
    "        # Add two fully connected layers.\n",
    "        flattened = tf.reshape(conv3, [batch_size, 121, 128])\n",
    "        rnn_input = tf.unstack(flattened, 128, 2)\n",
    "        \n",
    "        #Define the RNN network\n",
    "        lstm_layer = tf.contrib.rnn.BasicLSTMCell(121, forget_bias = 1)\n",
    "        rnn_outputs, _ = tf.contrib.rnn.static_rnn(lstm_layer, rnn_input, dtype = tf.float32)\n",
    "        outputs_flattened = tf.stack(rnn_outputs, axis = 2)\n",
    "        final_flattend = tf.contrib.layers.flatten(outputs_flattened)\n",
    "        \n",
    "        w_action = weight_variable([4, 300])\n",
    "        w_enc = weight_variable([15488, 300])\n",
    "        w_dec = weight_variable([300, 15488])\n",
    "        b = bias_variable([15488])\n",
    "            \n",
    "        p1 = tf.nn.relu(tf.matmul(self.action_pl, w_action))\n",
    "        p2 = tf.nn.relu(tf.matmul(final_flattend, w_enc))\n",
    "        h = tf.multiply(p1, p2)\n",
    "        f = tf.nn.relu(tf.matmul(h, w_dec) + b)\n",
    "        d_conv = tf.reshape(f, [batch_size, 11, 11, 128])\n",
    "        \n",
    "        d_conv1 = tf.nn.conv2d_transpose(d_conv, filter = tf.get_variable(shape = [3, 3, 128, 128], name = \"d_conv1_filter\"), \n",
    "                                         output_shape = [batch_size, 21, 21, 128], strides = [1, 2, 2, 1], padding = \"SAME\")\n",
    "        d_conv2 = tf.nn.conv2d_transpose(d_conv1, filter = tf.get_variable(shape = [3, 3, 128, 128], name = \"d_conv2_filter1\"), \n",
    "                                         output_shape = [batch_size, 42, 42, 128], strides = [1, 2, 2, 1], padding = \"SAME\")\n",
    "        d_conv3 = tf.nn.conv2d_transpose(d_conv2, filter = tf.get_variable(shape = [3, 3, 1, 128], name = \"d_conv3_filter1\"), \n",
    "                                         output_shape = [batch_size, 84, 84, 1], strides = [1, 2, 2, 1], padding = \"SAME\")\n",
    "        \n",
    "        self.predictions = tf.reshape(d_conv3, [batch_size, 7056])\n",
    "        self.losses = tf.squared_difference(Y, self.predictions)\n",
    "        #losses = tf.subtract(self.y_pl, predictions)\n",
    "        self.loss = tf.reduce_mean(self.losses)\n",
    "        # Optimizer\n",
    "        self.optimizer = tf.train.AdamOptimizer(\n",
    "            learning_rate = 0.0005)\n",
    "        self.train_op = self.optimizer.minimize(self.loss)\n",
    "        \n",
    "        # Summaries for Tensorboard\n",
    "        self.summaries = tf.summary.merge([\n",
    "            tf.summary.scalar(\"loss\", self.loss)\n",
    "        ])\n",
    "        \n",
    "        \n",
    "    def predict(self, sess, x, action):\n",
    "        \"\"\"\n",
    "        Predict next state.\n",
    "        Args:\n",
    "            sess: Default Tensorflow session.\n",
    "            x: image with shape [batch_size, 2, 84, 84]\n",
    "            action: action taken by agent with [batch_size, 4]\n",
    "        \"\"\"\n",
    "        return sess.run(self.predictions, {self.x_pl: x, self.action_pl: action})\n",
    "    \n",
    "    def update(self, sess, x, y, action):\n",
    "        \"\"\"\n",
    "        Update parameters in tensorflow graph.\n",
    "        Args:\n",
    "            sess: Default Tensorflow session.\n",
    "            x: image with shape [batch_size, 2, 84, 84]\n",
    "            y: next state with shape [batch_size, 7056]\n",
    "            action: action taken by agent with [batch_size, 4]\n",
    "        \"\"\"\n",
    "        feed_dict = { self.x_pl: x, self.y_pl: y, self.action_pl: action }\n",
    "        summaries, global_step, _, loss = sess.run(\n",
    "            [self.summaries, tf.contrib.framework.get_global_step(), self.train_op, self.loss],\n",
    "            feed_dict)\n",
    "        if self.summary_writer:\n",
    "            self.summary_writer.add_summary(summaries, global_step)\n",
    "        return loss"
   ]
  },
  {
   "cell_type": "code",
   "execution_count": 6,
   "metadata": {},
   "outputs": [],
   "source": [
    "def action_value(action):\n",
    "    lens = action.shape[0]\n",
    "    sv = np.zeros((lens, 4))\n",
    "    sv[np.array([i for i in range(lens)]),action.squeeze()] = 1\n",
    "    return sv\n",
    "\n",
    "def predict_test(sp, sc, sess, batch_size = 16, memory_size=30000, training_times = 10):\n",
    "    \"\"\"\n",
    "    Test function for state predictor.\n",
    "    \n",
    "    Args:\n",
    "        sp: state_predictor\n",
    "        rp: reward_predictor\n",
    "        sc: state_processor\n",
    "    \"\"\"\n",
    "    \n",
    "    Transition = namedtuple(\"Transition\", [\"state\", \"action\", \"reward\", \"next_state\", \"done\"])\n",
    "    \n",
    "    checkpoint_dir = os.path.join(experiment_dir, \"checkpoints\")\n",
    "    checkpoint_path = os.path.join(checkpoint_dir, \"model\")\n",
    "    monitor_path = os.path.join(experiment_dir, \"monitor\")\n",
    "    \n",
    "    if not os.path.exists(checkpoint_dir):\n",
    "        os.makedirs(checkpoint_dir)\n",
    "    if not os.path.exists(monitor_path):\n",
    "        os.makedirs(monitor_path)\n",
    "\n",
    "    saver = tf.train.Saver()\n",
    "    # Load a previous checkpoint if we find one\n",
    "    latest_checkpoint = tf.train.latest_checkpoint(checkpoint_dir)\n",
    "    if latest_checkpoint:\n",
    "        print(\"Loading model checkpoint {}...\\n\".format(latest_checkpoint))\n",
    "        saver.restore(sess, latest_checkpoint)\n",
    "    \n",
    "    \n",
    "    #Populating memory\n",
    "    print(\"Populating Replay Memory\")\n",
    "    memory = []\n",
    "    state = env.reset()\n",
    "    state = sc.process(sess, state)\n",
    "    state = np.stack([state] * 4, 2)\n",
    "    for i in range(memory_size):\n",
    "        action = np.random.choice(4, 1)\n",
    "        next_state, reward, done, _ = env.step(action)\n",
    "        next_state = sc.process(sess, next_state)\n",
    "        next_state= np.append(state[:, :, 1:], np.expand_dims(next_state, 2), axis = 2)\n",
    "        memory.append(Transition(state, action, reward, next_state, done))\n",
    "        if done:\n",
    "            state = env.reset()\n",
    "            state = sc.process(sess, state)\n",
    "            state = np.stack([state] * 4, 2)\n",
    "        else:\n",
    "            state = next_state\n",
    "    \n",
    "    print(\"Training State Predictor Network\")\n",
    "    for j in range(training_times):\n",
    "        samples = random.sample(memory, batch_size)\n",
    "        input_states, action, reward, output_state, done = map(np.array, zip(*samples))\n",
    "        \n",
    "        #input_state = [sample[0] for sample in samples]\n",
    "        output_states = output_state[:,:,:,3].reshape(batch_size, 7056)\n",
    "        actions = action_value(action)\n",
    "        #input_states = np.array(input_state)\n",
    "        #output_states = np.array(output_state)\n",
    "        #actions = np.array(action)\n",
    "        loss = sp.update(sess, input_states, output_states, actions)\n",
    "        #p = sp.predict(sess, input_states, actions)\n",
    "        print(\"\\rStep {} ({}), loss: {}\".format(j, training_times, loss), end=\"\")\n",
    "        sys.stdout.flush()\n",
    "        if j % 100 == 0:\n",
    "            saver.save(tf.get_default_session(), checkpoint_path)\n",
    "    return loss\n",
    "    #return input_states, output_states, actions"
   ]
  },
  {
   "cell_type": "code",
   "execution_count": 8,
   "metadata": {},
   "outputs": [
    {
     "name": "stdout",
     "output_type": "stream",
     "text": [
      "Initialize processor...\n",
      "Initialize predictor\n",
      "Run Session\n",
      "Populating Replay Memory\n",
      "Training State Predictor Network\n",
      "WARNING:tensorflow:From <ipython-input-5-0a8ca2264efe>:99: get_global_step (from tensorflow.contrib.framework.python.ops.variables) is deprecated and will be removed in a future version.\n",
      "Instructions for updating:\n",
      "Please switch to tf.train.get_global_step\n",
      "Step 999 (1000), loss: 0.003121039131656289"
     ]
    }
   ],
   "source": [
    "tf.reset_default_graph()\n",
    "\n",
    "experiment_dir = os.path.abspath(\"./rnn_experiments/{}\".format(env.spec.id))\n",
    "\n",
    "global_step = tf.Variable(0, name = \"global_step\", trainable = False)\n",
    "print(\"Initialize processor...\")\n",
    "processor = state_processor()\n",
    "\n",
    "print(\"Initialize predictor\")\n",
    "sp = state_predictor()\n",
    "\n",
    "print(\"Run Session\")\n",
    "with tf.Session() as sess:\n",
    "    sess.run(tf.global_variables_initializer())\n",
    "    #input_states, output_state, action = predict_test(sp, processor, sess, memory_size= 10, training_times = 1)\n",
    "    p = predict_test(sp, processor, sess, memory_size= 10000, training_times = 1000)"
   ]
  },
  {
   "cell_type": "code",
   "execution_count": 51,
   "metadata": {},
   "outputs": [
    {
     "name": "stdout",
     "output_type": "stream",
     "text": [
      "INFO:tensorflow:Restoring parameters from /home/ds/mnt/rnn_experiments/Berzerk-v0/checkpoints/model\n"
     ]
    }
   ],
   "source": [
    "## Make Predictions Using Model\n",
    "\n",
    "experiment_dir = os.path.abspath(\"./rnn_experiments/{}\".format(env.spec.id))\n",
    "checkpoint_dir = os.path.join(experiment_dir, \"checkpoints\")\n",
    "latest_checkpoint = tf.train.latest_checkpoint(checkpoint_dir)\n",
    "\n",
    "Transition = namedtuple(\"Transition\", [\"state\", \"action\", \"reward\", \"next_state\", \"done\"])\n",
    "\n",
    "tf.reset_default_graph()\n",
    "sc = state_processor()\n",
    "sp = state_predictor()\n",
    "\n",
    "saver = tf.train.Saver()\n",
    "\n",
    "with tf.Session() as sess:\n",
    "    saver.restore(sess, latest_checkpoint)\n",
    "    memory = []\n",
    "    state = env.reset()\n",
    "    state = sc.process(sess, state)\n",
    "    state = np.stack([state] * 4, 2)\n",
    "    for i in range(300):\n",
    "        action = np.random.choice(4, 1)\n",
    "        next_state, reward, done, _ = env.step(action)\n",
    "        next_state = sc.process(sess, next_state)\n",
    "        next_state= np.append(state[:, :, 1:], np.expand_dims(next_state, 2), axis = 2)\n",
    "        memory.append(Transition(state, action, reward, next_state, done))\n",
    "        if done:\n",
    "            state = env.reset()\n",
    "            state = sc.process(sess, state)\n",
    "            state = np.stack([state] * 4, 2)\n",
    "        else:\n",
    "            state = next_state\n",
    "            \n",
    "    samples = random.sample(memory, 1)\n",
    "    input_states, action, reward, output_state, done = map(np.array, zip(*samples))\n",
    "        \n",
    "    output_states = output_state[:,:,:,3].reshape(1, 7056)\n",
    "    actions = action_value(action)\n",
    "    \n",
    "    image = sp.predict(sess, input_states, actions)"
   ]
  },
  {
   "cell_type": "code",
   "execution_count": 52,
   "metadata": {},
   "outputs": [
    {
     "data": {
      "image/png": "[encoded data removed]",
      "text/plain": [
       "<Figure size 432x288 with 1 Axes>"
      ]
     },
     "metadata": {},
     "output_type": "display_data"
    }
   ],
   "source": [
    "from matplotlib import pyplot as plt\n",
    "plt.imshow(image.reshape([84,84]), interpolation='nearest')\n",
    "plt.show()"
   ]
  },
  {
   "cell_type": "code",
   "execution_count": 53,
   "metadata": {},
   "outputs": [
    {
     "data": {
      "image/png": "[encoded data removed]",
      "text/plain": [
       "<Figure size 432x288 with 1 Axes>"
      ]
     },
     "metadata": {},
     "output_type": "display_data"
    }
   ],
   "source": [
    "plt.imshow(np.squeeze(output_state[:,:,:,3]), interpolation='nearest')\n",
    "plt.show()"
   ]
  },
  {
   "cell_type": "code",
   "execution_count": null,
   "metadata": {},
   "outputs": [],
   "source": []
  },
  {
   "cell_type": "code",
   "execution_count": null,
   "metadata": {},
   "outputs": [],
   "source": []
  }
 ],
 "metadata": {
  "kernelspec": {
   "display_name": "Python 3",
   "language": "python",
   "name": "python3"
  },
  "language_info": {
   "codemirror_mode": {
    "name": "ipython",
    "version": 3
   },
   "file_extension": ".py",
   "mimetype": "text/x-python",
   "name": "python",
   "nbconvert_exporter": "python",
   "pygments_lexer": "ipython3",
   "version": "3.5.2"
  }
 },
 "nbformat": 4,
 "nbformat_minor": 2
}
